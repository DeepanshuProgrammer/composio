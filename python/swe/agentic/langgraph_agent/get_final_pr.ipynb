{
 "cells": [
  {
   "cell_type": "code",
   "execution_count": 60,
   "metadata": {},
   "outputs": [],
   "source": [
    "import os\n",
    "import json\n",
    "import glob"
   ]
  },
  {
   "cell_type": "code",
   "execution_count": 61,
   "metadata": {},
   "outputs": [],
   "source": [
    "final_patch_dir = \"/Users/shrey/Desktop/Composio-dev/composio/python/swe/agentic/langgraph_agent/logs/run_evaluation/langgraph_agent_final2/composio\"\n",
    "\n",
    "def get_final_patches(final_patch_dir):\n",
    "    final_patches = {}\n",
    "    for patch_path in glob.glob(final_patch_dir + \"/**/patch.diff\"):\n",
    "        project_name = patch_path.split(\"/\")[-2]\n",
    "        final_patches[project_name] = open(patch_path, \"r\").read()\n",
    "    return final_patches"
   ]
  },
  {
   "cell_type": "code",
   "execution_count": 62,
   "metadata": {},
   "outputs": [],
   "source": [
    "final_patches = get_final_patches(final_patch_dir)"
   ]
  },
  {
   "cell_type": "code",
   "execution_count": 63,
   "metadata": {},
   "outputs": [
    {
     "name": "stdout",
     "output_type": "stream",
     "text": [
      "JSONL file 'final_patches.jsonl' has been created.\n"
     ]
    }
   ],
   "source": [
    "import json\n",
    "\n",
    "with open('/Users/shrey/Desktop/experiments/evaluation/verified/20240926_composio_swekit/all_preds.jsonl', 'w') as f:\n",
    "    for instance_id, patch in final_patches.items():\n",
    "        json_line = {\n",
    "            \"model_name_or_path\": \"claude-3-5-sonnet\",\n",
    "            \"instance_id\": instance_id,\n",
    "            \"model_patch\": patch\n",
    "        }\n",
    "        f.write(json.dumps(json_line) + '\\n')\n",
    "\n",
    "print(\"JSONL file 'final_patches.jsonl' has been created.\")\n"
   ]
  },
  {
   "cell_type": "code",
   "execution_count": 64,
   "metadata": {},
   "outputs": [],
   "source": [
    "import shutil\n",
    "for folder in glob.glob(final_patch_dir + \"/*\"):\n",
    "    for file in os.listdir(folder):\n",
    "        if not os.path.isdir(os.path.join(folder, file)):\n",
    "            file_path = os.path.join(folder, file)\n",
    "            instance = folder.split(\"/\")[-1]\n",
    "            os.makedirs(f\"/Users/shrey/Desktop/experiments/evaluation/verified/20240926_composio_swekit/logs/{instance}\", exist_ok=True)\n",
    "            shutil.copy(file_path, f\"/Users/shrey/Desktop/experiments/evaluation/verified/20240926_composio_swekit/logs/{instance}\")\n",
    "            \n"
   ]
  },
  {
   "cell_type": "code",
   "execution_count": 65,
   "metadata": {},
   "outputs": [
    {
     "name": "stdout",
     "output_type": "stream",
     "text": [
      "scikit-learn__scikit-learn-25232\n"
     ]
    }
   ],
   "source": [
    "for traj_file in glob.glob(\"./logs/trajs/*.json\"):\n",
    "    traj = json.load(open(traj_file, \"r\"))\n",
    "    key = traj_file.split(\"/\")[-1][:-10]\n",
    "    shutil.copy(traj_file, \"/Users/shrey/Desktop/experiments/evaluation/verified/20240926_composio_swekit/trajs/\")\n",
    "    if final_patches[key] not in traj[-1][1]['kwargs']['content']:\n",
    "        print(key)\n",
    "\n"
   ]
  },
  {
   "cell_type": "code",
   "execution_count": null,
   "metadata": {},
   "outputs": [],
   "source": []
  },
  {
   "cell_type": "code",
   "execution_count": null,
   "metadata": {},
   "outputs": [],
   "source": []
  },
  {
   "cell_type": "code",
   "execution_count": null,
   "metadata": {},
   "outputs": [],
   "source": []
  },
  {
   "cell_type": "code",
   "execution_count": null,
   "metadata": {},
   "outputs": [],
   "source": []
  }
 ],
 "metadata": {
  "kernelspec": {
   "display_name": "python-PN9waRBr",
   "language": "python",
   "name": "python3"
  },
  "language_info": {
   "codemirror_mode": {
    "name": "ipython",
    "version": 3
   },
   "file_extension": ".py",
   "mimetype": "text/x-python",
   "name": "python",
   "nbconvert_exporter": "python",
   "pygments_lexer": "ipython3",
   "version": "3.10.14"
  }
 },
 "nbformat": 4,
 "nbformat_minor": 2
}

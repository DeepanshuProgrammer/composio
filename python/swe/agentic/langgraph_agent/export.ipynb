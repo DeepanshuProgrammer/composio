{
 "cells": [
  {
   "cell_type": "code",
   "execution_count": 1,
   "metadata": {},
   "outputs": [
    {
     "name": "stderr",
     "output_type": "stream",
     "text": [
      "/Users/shrey/.local/share/virtualenvs/python-PN9waRBr/lib/python3.10/site-packages/tqdm/auto.py:21: TqdmWarning: IProgress not found. Please update jupyter and ipywidgets. See https://ipywidgets.readthedocs.io/en/stable/user_install.html\n",
      "  from .autonotebook import tqdm as notebook_tqdm\n",
      "2024-09-26 22:02:31,691 - datasets - INFO - PyTorch version 2.4.0 available.\n"
     ]
    }
   ],
   "source": [
    "from swebench.harness.utils import load_swebench_dataset\n",
    "import json\n",
    "import os\n",
    "from tqdm.auto import tqdm\n",
    "import json\n",
    "import pandas as pd\n",
    "import glob\n",
    "instances = load_swebench_dataset(split=\"test\", name=\"princeton-nlp/SWE-bench_Verified\")"
   ]
  },
  {
   "cell_type": "code",
   "execution_count": 2,
   "metadata": {},
   "outputs": [],
   "source": [
    "def get_trace(dfs, start_id, end_id):    \n",
    "    trace = []\n",
    "    for i in range(end_id, start_id - 1, -1):\n",
    "        df = dfs[i]\n",
    "        if len(df) == 1:\n",
    "            trace.append(df[\"inputs\"][0][\"messages\"] + [df[\"outputs\"][0]])\n",
    "        else:\n",
    "            trace.append(df.iloc[-1][\"inputs\"][\"messages\"] + [df.iloc[-1][\"outputs\"]])\n",
    "    return trace\n"
   ]
  },
  {
   "cell_type": "code",
   "execution_count": 3,
   "metadata": {},
   "outputs": [],
   "source": [
    "def find_start_end(dfs, lens):\n",
    "    start = -1\n",
    "    for i, df in enumerate(dfs):\n",
    "        if \"You are a software engineer expert at solving bugs\" in df.loc[0, \"inputs\"][\"messages\"][0]['kwargs']['content']:\n",
    "            start = i\n",
    "            break\n",
    "    lens_copy = lens[start:]\n",
    "    begin = -1\n",
    "    end = -1\n",
    "    for i, value in enumerate(lens_copy):\n",
    "        if value != 1:\n",
    "            if begin == -1:\n",
    "                begin = i\n",
    "            end = i\n",
    "        elif begin != -1:\n",
    "            break\n",
    "    end = min(end, begin+2)\n",
    "    end+=start\n",
    "    return start, end"
   ]
  },
  {
   "cell_type": "code",
   "execution_count": 4,
   "metadata": {},
   "outputs": [],
   "source": [
    "def get_final_patches():\n",
    "    final_patches = {}\n",
    "    for patch_path in glob.glob(\"/Users/shrey/Desktop/Composio-dev/composio/python/swe/agentic/langgraph_agent/logs/run_evaluation/langgraph_agent_final/composio/**/patch.diff\"):\n",
    "        project_name = patch_path.split(\"/\")[-2]\n",
    "        final_patches[project_name] = open(patch_path, \"r\").read()\n",
    "    return final_patches\n",
    "\n",
    "final_patches = get_final_patches()"
   ]
  },
  {
   "cell_type": "code",
   "execution_count": 5,
   "metadata": {},
   "outputs": [],
   "source": [
    "def get_traces_from_folder(folder_path):\n",
    "    run_dict = {}\n",
    "\n",
    "    for x in tqdm(instances):\n",
    "        project_name = x[\"instance_id\"]\n",
    "        if os.path.exists(f\"./logs/{folder_path}/{project_name}/runs.json\"):\n",
    "            with open(f\"./logs/{folder_path}/{project_name}/runs.json\", \"r\") as f:\n",
    "                runs_dict = json.load(f)\n",
    "                df = pd.DataFrame(runs_dict)\n",
    "                run_dict[project_name] = df\n",
    "\n",
    "    for k,df in run_dict.items():\n",
    "        dfs = []\n",
    "        for _, _df in df.groupby(by=\"trace_id\"):\n",
    "            _df = _df.sort_values(by=\"start_time\", ascending=True) \n",
    "            dfs.append(_df.reset_index(drop=True))\n",
    "        dfs.sort(key=lambda x: x.iloc[0]['start_time'], reverse=True)\n",
    "        run_dict[k] = dfs\n",
    "\n",
    "    for k, dfs in run_dict.items():\n",
    "        filtered_dfs = []\n",
    "        for _df in dfs:\n",
    "            if _df.iloc[0][\"name\"] == \"BedrockChat\": filtered_dfs.append(_df)\n",
    "        if len(filtered_dfs) == 0:\n",
    "            # print(k)\n",
    "            pass\n",
    "        else:\n",
    "            run_dict[k] = filtered_dfs\n",
    "    \n",
    "    trace = {}\n",
    "    probs = []\n",
    "    for k, dfs in run_dict.items():\n",
    "        lens = [len(_df) for _df in dfs]\n",
    "        if k == \"django__django-16901\":\n",
    "            start, end = 7, 13\n",
    "        elif k == \"sympy__sympy-11618\":\n",
    "            start, end = 7, 13\n",
    "        else:\n",
    "            start, end = find_start_end(dfs, lens)\n",
    "        if start == -1:\n",
    "            probs.append(k)\n",
    "            continue\n",
    "        if not (final_patches[k] in dfs[start].loc[0, \"inputs\"][\"messages\"][1][\"kwargs\"][\"content\"]):\n",
    "            probs.append(k)\n",
    "            continue\n",
    "        tr = get_trace(dfs, start, end)\n",
    "        trace[k] = tr\n",
    "\n",
    "    return run_dict, trace, probs"
   ]
  },
  {
   "cell_type": "code",
   "execution_count": 6,
   "metadata": {},
   "outputs": [
    {
     "name": "stderr",
     "output_type": "stream",
     "text": [
      "100%|██████████| 500/500 [01:38<00:00,  5.10it/s]\n"
     ]
    }
   ],
   "source": [
    "run_dict, trace, probs = get_traces_from_folder(\"runs\")"
   ]
  },
  {
   "cell_type": "markdown",
   "metadata": {},
   "source": [
    "\n",
    "<!-- dfs[start].loc[0, \"inputs\"][\"messages\"][0]['kwargs']['content'] -->\n"
   ]
  },
  {
   "cell_type": "code",
   "execution_count": 7,
   "metadata": {},
   "outputs": [
    {
     "data": {
      "text/plain": [
       "['django__django-10554',\n",
       " 'django__django-10914',\n",
       " 'django__django-11211',\n",
       " 'django__django-11951',\n",
       " 'django__django-12325',\n",
       " 'django__django-12713',\n",
       " 'django__django-13089',\n",
       " 'django__django-13658',\n",
       " 'django__django-13810',\n",
       " 'django__django-13820',\n",
       " 'django__django-13821',\n",
       " 'django__django-15569',\n",
       " 'django__django-16454',\n",
       " 'django__django-16612',\n",
       " 'django__django-16819',\n",
       " 'django__django-16938',\n",
       " 'django__django-17084',\n",
       " 'psf__requests-2931',\n",
       " 'pydata__xarray-3095',\n",
       " 'scikit-learn__scikit-learn-25232',\n",
       " 'sphinx-doc__sphinx-9229']"
      ]
     },
     "execution_count": 7,
     "metadata": {},
     "output_type": "execute_result"
    }
   ],
   "source": [
    "probs"
   ]
  },
  {
   "cell_type": "code",
   "execution_count": null,
   "metadata": {},
   "outputs": [],
   "source": []
  },
  {
   "cell_type": "code",
   "execution_count": null,
   "metadata": {},
   "outputs": [],
   "source": []
  },
  {
   "cell_type": "code",
   "execution_count": null,
   "metadata": {},
   "outputs": [],
   "source": []
  },
  {
   "cell_type": "code",
   "execution_count": null,
   "metadata": {},
   "outputs": [],
   "source": []
  },
  {
   "cell_type": "code",
   "execution_count": 8,
   "metadata": {},
   "outputs": [
    {
     "name": "stderr",
     "output_type": "stream",
     "text": [
      "100%|██████████| 500/500 [00:00<00:00, 727.80it/s]\n"
     ]
    }
   ],
   "source": [
    "run_dict2, trace2, probs2 = get_traces_from_folder(\"runs2\")"
   ]
  },
  {
   "cell_type": "code",
   "execution_count": 10,
   "metadata": {},
   "outputs": [
    {
     "data": {
      "text/plain": [
       "dict_keys(['django__django-10554', 'django__django-10914', 'django__django-11211', 'django__django-11951', 'django__django-12325', 'django__django-12713', 'django__django-13089', 'django__django-13658', 'django__django-13810', 'django__django-13820', 'django__django-13821', 'django__django-15569', 'django__django-16454', 'django__django-16612', 'django__django-16819', 'django__django-16938', 'django__django-17084', 'psf__requests-2931', 'pydata__xarray-3095', 'sphinx-doc__sphinx-9229'])"
      ]
     },
     "execution_count": 10,
     "metadata": {},
     "output_type": "execute_result"
    }
   ],
   "source": [
    "trace2.keys()"
   ]
  },
  {
   "cell_type": "code",
   "execution_count": 11,
   "metadata": {},
   "outputs": [],
   "source": [
    "final_patch = get_final_patches()\n",
    "trace.update(trace2)"
   ]
  },
  {
   "cell_type": "code",
   "execution_count": 12,
   "metadata": {},
   "outputs": [
    {
     "name": "stdout",
     "output_type": "stream",
     "text": [
      "500\n",
      "499\n"
     ]
    }
   ],
   "source": [
    "final_patch = get_final_patches()\n",
    "print(len(final_patch))\n",
    "print(len(trace))"
   ]
  },
  {
   "cell_type": "code",
   "execution_count": 13,
   "metadata": {},
   "outputs": [],
   "source": [
    "for k,tr in trace.items():\n",
    "    last_message = tr[-1][1]['kwargs']['content']\n",
    "    if final_patch[k] not in last_message:\n",
    "        print(k)\n"
   ]
  },
  {
   "cell_type": "code",
   "execution_count": 14,
   "metadata": {},
   "outputs": [],
   "source": [
    "os.makedirs(\"./logs/trajs\", exist_ok=True)\n",
    "for k,tr in trace.items():\n",
    "    with open(f\"./logs/trajs/{k}_traj.json\", \"w\") as f:\n",
    "        json.dump(tr, f, indent=2)\n"
   ]
  },
  {
   "cell_type": "code",
   "execution_count": 15,
   "metadata": {},
   "outputs": [
    {
     "name": "stdout",
     "output_type": "stream",
     "text": [
      "scikit-learn__scikit-learn-25232\n"
     ]
    }
   ],
   "source": [
    "final_patch = get_final_patches()\n",
    "\n",
    "for file_path in glob.glob(\"./logs/trajs/*.json\"):\n",
    "    # print(file_path)\n",
    "    with open(file_path, \"r\") as f:\n",
    "        tr = json.load(f)\n",
    "    proj = file_path.split(\"/\")[-1][:-10]\n",
    "    if final_patch[proj] not in tr[-1][1]['kwargs']['content']:\n",
    "        print(proj)\n",
    "\n",
    "    \n"
   ]
  },
  {
   "cell_type": "code",
   "execution_count": null,
   "metadata": {},
   "outputs": [],
   "source": []
  },
  {
   "cell_type": "code",
   "execution_count": null,
   "metadata": {},
   "outputs": [],
   "source": []
  },
  {
   "cell_type": "code",
   "execution_count": null,
   "metadata": {},
   "outputs": [],
   "source": []
  },
  {
   "cell_type": "code",
   "execution_count": null,
   "metadata": {},
   "outputs": [],
   "source": []
  },
  {
   "cell_type": "code",
   "execution_count": null,
   "metadata": {},
   "outputs": [],
   "source": []
  },
  {
   "cell_type": "code",
   "execution_count": null,
   "metadata": {},
   "outputs": [],
   "source": []
  },
  {
   "cell_type": "code",
   "execution_count": null,
   "metadata": {},
   "outputs": [],
   "source": []
  },
  {
   "cell_type": "code",
   "execution_count": null,
   "metadata": {},
   "outputs": [],
   "source": []
  },
  {
   "cell_type": "code",
   "execution_count": null,
   "metadata": {},
   "outputs": [],
   "source": []
  },
  {
   "cell_type": "code",
   "execution_count": null,
   "metadata": {},
   "outputs": [],
   "source": []
  },
  {
   "cell_type": "code",
   "execution_count": null,
   "metadata": {},
   "outputs": [],
   "source": []
  },
  {
   "cell_type": "code",
   "execution_count": null,
   "metadata": {},
   "outputs": [],
   "source": []
  },
  {
   "cell_type": "code",
   "execution_count": null,
   "metadata": {},
   "outputs": [],
   "source": []
  },
  {
   "cell_type": "code",
   "execution_count": null,
   "metadata": {},
   "outputs": [],
   "source": []
  },
  {
   "cell_type": "code",
   "execution_count": 3,
   "metadata": {},
   "outputs": [
    {
     "name": "stderr",
     "output_type": "stream",
     "text": [
      "100%|██████████| 500/500 [01:19<00:00,  6.26it/s]\n"
     ]
    }
   ],
   "source": [
    "\n",
    "\n",
    "run_dict = {}\n",
    "\n",
    "for x in tqdm(instances):\n",
    "    project_name = x[\"instance_id\"]\n",
    "    with open(f\"./logs/runs/{project_name}/runs.json\", \"r\") as f:\n",
    "        runs_dict = json.load(f)\n",
    "    df = pd.DataFrame(runs_dict)\n",
    "    run_dict[project_name] = df\n"
   ]
  },
  {
   "cell_type": "code",
   "execution_count": 4,
   "metadata": {},
   "outputs": [],
   "source": [
    "for k,df in run_dict.items():\n",
    "\n",
    "    dfs = []\n",
    "    for _, _df in df.groupby(by=\"trace_id\"):\n",
    "        ## sort the values based on start_time\n",
    "        _df = _df.sort_values(by=\"start_time\", ascending=True) \n",
    "        dfs.append(_df.reset_index(drop=True))\n",
    "\n",
    "    # Sort dfs based on start_time of first row of each df\n",
    "    dfs.sort(key=lambda x: x.iloc[0]['start_time'], reverse=True)\n",
    "    run_dict[k] = dfs\n"
   ]
  },
  {
   "cell_type": "code",
   "execution_count": 5,
   "metadata": {},
   "outputs": [
    {
     "name": "stdout",
     "output_type": "stream",
     "text": [
      "django__django-11951\n",
      "django__django-13810\n"
     ]
    }
   ],
   "source": [
    "for k, dfs in run_dict.items():\n",
    "    filtered_dfs = []\n",
    "    for _df in dfs:\n",
    "        if _df.iloc[0][\"name\"] == \"BedrockChat\": filtered_dfs.append(_df)\n",
    "    if len(filtered_dfs) == 0:\n",
    "        print(k)\n",
    "    else:\n",
    "        run_dict[k] = filtered_dfs\n"
   ]
  },
  {
   "cell_type": "code",
   "execution_count": 6,
   "metadata": {},
   "outputs": [],
   "source": [
    "def find_start_end(dfs, lens):\n",
    "    start = -1\n",
    "    end = -1\n",
    "    for i, value in enumerate(lens):\n",
    "        if value != 1:\n",
    "            if start == -1:\n",
    "                start = i\n",
    "            end = i\n",
    "        elif start != -1:\n",
    "            break\n",
    "    end = min(end, start+2)\n",
    "    p = start - 1\n",
    "    final = 0\n",
    "    while p >= 0:\n",
    "        if 'test' not in dfs[p].loc[0, \"inputs\"][\"messages\"][0]['kwargs']['content']:\n",
    "            final = p\n",
    "            break\n",
    "        if lens[p] != 1:\n",
    "            final = p+1\n",
    "            break\n",
    "        p -= 1\n",
    "    \n",
    "    return final, end\n"
   ]
  },
  {
   "cell_type": "code",
   "execution_count": 7,
   "metadata": {},
   "outputs": [],
   "source": [
    "def find_start_end(dfs, lens):\n",
    "    ## trim the lens list to remove all the elements in the beginning till first time 1 is encounteered\n",
    "    if 1 in lens:\n",
    "        first_one = lens.index(1)\n",
    "        lens_copy = lens[first_one:]\n",
    "    else: \n",
    "        first_one = 0\n",
    "        lens_copy = lens\n",
    "    start = -1\n",
    "    end = -1\n",
    "    for i, value in enumerate(lens_copy):\n",
    "        if value != 1:\n",
    "            if start == -1:\n",
    "                start = i\n",
    "            end = i\n",
    "        elif start != -1:\n",
    "            break\n",
    "    end = min(end, start+2)\n",
    "    start+=first_one\n",
    "    end+=first_one\n",
    "    p = start - 1\n",
    "    final = 0\n",
    "    while p >= 0:\n",
    "        if 'test' not in dfs[p].loc[0, \"inputs\"][\"messages\"][0]['kwargs']['content']:\n",
    "            final = p\n",
    "            break\n",
    "        if lens[p] != 1:\n",
    "            final = p+1\n",
    "            break\n",
    "        p -= 1\n",
    "    \n",
    "    return final, end\n"
   ]
  },
  {
   "cell_type": "code",
   "execution_count": 15,
   "metadata": {},
   "outputs": [],
   "source": [
    "import array\n",
    "import glob\n",
    "final_patches = {}\n",
    "for patch_path in glob.glob(\"/Users/shrey/Desktop/Composio-dev/composio/python/swe/agentic/langgraph_agent/logs/run_evaluation/langgraph_agent_final/composio/**/patch.diff\"):\n",
    "    project_name = patch_path.split(\"/\")[-2]\n",
    "    final_patches[project_name] = open(patch_path, \"r\").read()\n"
   ]
  },
  {
   "cell_type": "code",
   "execution_count": 22,
   "metadata": {},
   "outputs": [],
   "source": [
    "def find_start_end(dfs, lens):\n",
    "    ## trim the lens list to remove all the elements in the beginning till first time 1 is encounteered\n",
    "\n",
    "    start = -1\n",
    "    for i, df in enumerate(dfs):\n",
    "        if \"You are a software engineer expert at solving bugs\" in df.loc[0, \"inputs\"][\"messages\"][0]['kwargs']['content']:\n",
    "            start = i\n",
    "            break\n",
    "\n",
    "    lens_copy = lens[start:]\n",
    "    begin = -1\n",
    "    end = -1\n",
    "    for i, value in enumerate(lens_copy):\n",
    "        if value != 1:\n",
    "            if begin == -1:\n",
    "                begin = i\n",
    "            end = i\n",
    "        elif begin != -1:\n",
    "            break\n",
    "    \n",
    "    end = min(end, begin+2)\n",
    "    end+=start\n",
    "    return start, end\n"
   ]
  },
  {
   "cell_type": "code",
   "execution_count": 17,
   "metadata": {},
   "outputs": [],
   "source": [
    "trace = {}\n",
    "probs = []\n",
    "for k, dfs in run_dict.items():\n",
    "    lens = [len(_df) for _df in dfs]\n",
    "    start, end = find_start_end(dfs, lens)\n",
    "    if start == -1:\n",
    "        probs.append(k)\n",
    "        continue\n",
    "    if not (final_patches[k] in dfs[start].loc[0, \"inputs\"][\"messages\"][1][\"kwargs\"][\"content\"]):\n",
    "        probs.append(k)\n",
    "        continue\n",
    "    tr = get_trace(dfs, start, end)\n",
    "    trace[k] = tr"
   ]
  },
  {
   "cell_type": "code",
   "execution_count": 19,
   "metadata": {},
   "outputs": [
    {
     "data": {
      "text/plain": [
       "['django__django-11951',\n",
       " 'django__django-12325',\n",
       " 'django__django-12713',\n",
       " 'django__django-13089',\n",
       " 'django__django-13658',\n",
       " 'django__django-13810',\n",
       " 'django__django-13820',\n",
       " 'django__django-13821',\n",
       " 'django__django-15569',\n",
       " 'django__django-16454',\n",
       " 'django__django-16612',\n",
       " 'django__django-16819',\n",
       " 'django__django-16901',\n",
       " 'django__django-16938',\n",
       " 'django__django-17084',\n",
       " 'psf__requests-2931',\n",
       " 'pydata__xarray-3095',\n",
       " 'scikit-learn__scikit-learn-25232',\n",
       " 'sphinx-doc__sphinx-10466',\n",
       " 'sphinx-doc__sphinx-9229',\n",
       " 'sympy__sympy-11618']"
      ]
     },
     "execution_count": 19,
     "metadata": {},
     "output_type": "execute_result"
    }
   ],
   "source": [
    "probs"
   ]
  },
  {
   "cell_type": "code",
   "execution_count": 18,
   "metadata": {},
   "outputs": [
    {
     "name": "stdout",
     "output_type": "stream",
     "text": [
      "\"django__django-11951\"\n",
      "\"django__django-12325\"\n",
      "\"django__django-12713\"\n",
      "\"django__django-13089\"\n",
      "\"django__django-13658\"\n",
      "\"django__django-13810\"\n",
      "\"django__django-13820\"\n",
      "\"django__django-13821\"\n",
      "\"django__django-15569\"\n",
      "\"django__django-16454\"\n",
      "\"django__django-16612\"\n",
      "\"django__django-16819\"\n",
      "\"django__django-16901\"\n",
      "\"django__django-16938\"\n",
      "\"django__django-17084\"\n",
      "\"psf__requests-2931\"\n",
      "\"pydata__xarray-3095\"\n",
      "\"scikit-learn__scikit-learn-25232\"\n",
      "\"sphinx-doc__sphinx-10466\"\n",
      "\"sphinx-doc__sphinx-9229\"\n",
      "\"sympy__sympy-11618\"\n"
     ]
    }
   ],
   "source": [
    "for prob in probs:\n",
    "    print(\"\\\"\" + prob + \"\\\"\")"
   ]
  },
  {
   "cell_type": "code",
   "execution_count": 19,
   "metadata": {},
   "outputs": [
    {
     "data": {
      "text/plain": [
       "'You are expert at reading test responses.'"
      ]
     },
     "execution_count": 19,
     "metadata": {},
     "output_type": "execute_result"
    }
   ],
   "source": [
    "dfs = run_dict[\"astropy__astropy-14539\"]\n",
    "lens = [len(_df) for _df in dfs]\n",
    "start, end = find_start_end(dfs, lens)\n",
    "dfs[start].loc[0, \"inputs\"][\"messages\"][0]['kwargs']['content']\n",
    "\n"
   ]
  },
  {
   "cell_type": "code",
   "execution_count": null,
   "metadata": {},
   "outputs": [],
   "source": []
  }
 ],
 "metadata": {
  "kernelspec": {
   "display_name": "python-PN9waRBr",
   "language": "python",
   "name": "python3"
  },
  "language_info": {
   "codemirror_mode": {
    "name": "ipython",
    "version": 3
   },
   "file_extension": ".py",
   "mimetype": "text/x-python",
   "name": "python",
   "nbconvert_exporter": "python",
   "pygments_lexer": "ipython3",
   "version": "3.10.14"
  }
 },
 "nbformat": 4,
 "nbformat_minor": 2
}
